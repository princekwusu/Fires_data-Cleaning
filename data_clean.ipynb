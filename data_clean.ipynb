{
 "cells": [
  {
   "cell_type": "code",
   "execution_count": 1,
   "id": "9700c541-b881-4faa-8826-5b27e69de5a1",
   "metadata": {},
   "outputs": [],
   "source": [
    "import pandas as pd\n"
   ]
  },
  {
   "cell_type": "code",
   "execution_count": 5,
   "id": "1815c406-dd5b-40e2-9853-5814488f5d7f",
   "metadata": {},
   "outputs": [],
   "source": [
    "data = pd.read_csv('fires.csv' , index_col=0)"
   ]
  },
  {
   "cell_type": "code",
   "execution_count": 3,
   "id": "23669f11-6bc9-4981-91e3-fbbabd80b47d",
   "metadata": {},
   "outputs": [
    {
     "name": "stdout",
     "output_type": "stream",
     "text": [
      "<class 'pandas.core.frame.DataFrame'>\n",
      "RangeIndex: 6454 entries, 0 to 6453\n",
      "Data columns (total 6 columns):\n",
      " #   Column      Non-Null Count  Dtype \n",
      "---  ------      --------------  ----- \n",
      " 0   Unnamed: 0  6454 non-null   int64 \n",
      " 1   ano         6454 non-null   int64 \n",
      " 2   mes         6454 non-null   object\n",
      " 3   estado      6454 non-null   object\n",
      " 4   numero      6322 non-null   object\n",
      " 5   encontro    6454 non-null   object\n",
      "dtypes: int64(2), object(4)\n",
      "memory usage: 302.7+ KB\n"
     ]
    }
   ],
   "source": [
    "data.info()"
   ]
  },
  {
   "cell_type": "code",
   "execution_count": 6,
   "id": "0e85dcf7-7cd2-4cc7-9b29-76feb5690174",
   "metadata": {},
   "outputs": [
    {
     "data": {
      "text/html": [
       "<div>\n",
       "<style scoped>\n",
       "    .dataframe tbody tr th:only-of-type {\n",
       "        vertical-align: middle;\n",
       "    }\n",
       "\n",
       "    .dataframe tbody tr th {\n",
       "        vertical-align: top;\n",
       "    }\n",
       "\n",
       "    .dataframe thead th {\n",
       "        text-align: right;\n",
       "    }\n",
       "</style>\n",
       "<table border=\"1\" class=\"dataframe\">\n",
       "  <thead>\n",
       "    <tr style=\"text-align: right;\">\n",
       "      <th></th>\n",
       "      <th>ano</th>\n",
       "      <th>mes</th>\n",
       "      <th>estado</th>\n",
       "      <th>numero</th>\n",
       "      <th>encontro</th>\n",
       "    </tr>\n",
       "  </thead>\n",
       "  <tbody>\n",
       "    <tr>\n",
       "      <th>0</th>\n",
       "      <td>1998</td>\n",
       "      <td>Janeiro</td>\n",
       "      <td>Acre</td>\n",
       "      <td>0 Fires</td>\n",
       "      <td>1/1/1998</td>\n",
       "    </tr>\n",
       "    <tr>\n",
       "      <th>1</th>\n",
       "      <td>1999</td>\n",
       "      <td>Janeiro</td>\n",
       "      <td>Acre</td>\n",
       "      <td>0 Fires</td>\n",
       "      <td>1/1/1999</td>\n",
       "    </tr>\n",
       "    <tr>\n",
       "      <th>2</th>\n",
       "      <td>2000</td>\n",
       "      <td>Janeiro</td>\n",
       "      <td>Acre</td>\n",
       "      <td>0 Fires</td>\n",
       "      <td>1/1/2000</td>\n",
       "    </tr>\n",
       "    <tr>\n",
       "      <th>3</th>\n",
       "      <td>2001</td>\n",
       "      <td>Janeiro</td>\n",
       "      <td>Acre</td>\n",
       "      <td>0 Fires</td>\n",
       "      <td>1/1/2001</td>\n",
       "    </tr>\n",
       "    <tr>\n",
       "      <th>4</th>\n",
       "      <td>2002</td>\n",
       "      <td>Janeiro</td>\n",
       "      <td>Acre</td>\n",
       "      <td>0 Fires</td>\n",
       "      <td>1/1/2002</td>\n",
       "    </tr>\n",
       "    <tr>\n",
       "      <th>...</th>\n",
       "      <td>...</td>\n",
       "      <td>...</td>\n",
       "      <td>...</td>\n",
       "      <td>...</td>\n",
       "      <td>...</td>\n",
       "    </tr>\n",
       "    <tr>\n",
       "      <th>6449</th>\n",
       "      <td>2012</td>\n",
       "      <td>Dezembro</td>\n",
       "      <td>Tocantins</td>\n",
       "      <td>128</td>\n",
       "      <td>1/1/2012</td>\n",
       "    </tr>\n",
       "    <tr>\n",
       "      <th>6450</th>\n",
       "      <td>2013</td>\n",
       "      <td>Dezembro</td>\n",
       "      <td>Tocantins</td>\n",
       "      <td>85</td>\n",
       "      <td>1/1/2013</td>\n",
       "    </tr>\n",
       "    <tr>\n",
       "      <th>6451</th>\n",
       "      <td>2014</td>\n",
       "      <td>Dezembro</td>\n",
       "      <td>Tocantins</td>\n",
       "      <td>223</td>\n",
       "      <td>1/1/2014</td>\n",
       "    </tr>\n",
       "    <tr>\n",
       "      <th>6452</th>\n",
       "      <td>2015</td>\n",
       "      <td>Dezembro</td>\n",
       "      <td>Tocantins</td>\n",
       "      <td>373</td>\n",
       "      <td>1/1/2015</td>\n",
       "    </tr>\n",
       "    <tr>\n",
       "      <th>6453</th>\n",
       "      <td>2016</td>\n",
       "      <td>Dezembro</td>\n",
       "      <td>Tocantins</td>\n",
       "      <td>119</td>\n",
       "      <td>1/1/2016</td>\n",
       "    </tr>\n",
       "  </tbody>\n",
       "</table>\n",
       "<p>6454 rows × 5 columns</p>\n",
       "</div>"
      ],
      "text/plain": [
       "       ano       mes     estado   numero  encontro\n",
       "0     1998   Janeiro       Acre  0 Fires  1/1/1998\n",
       "1     1999   Janeiro       Acre  0 Fires  1/1/1999\n",
       "2     2000   Janeiro       Acre  0 Fires  1/1/2000\n",
       "3     2001   Janeiro       Acre  0 Fires  1/1/2001\n",
       "4     2002   Janeiro       Acre  0 Fires  1/1/2002\n",
       "...    ...       ...        ...      ...       ...\n",
       "6449  2012  Dezembro  Tocantins      128  1/1/2012\n",
       "6450  2013  Dezembro  Tocantins       85  1/1/2013\n",
       "6451  2014  Dezembro  Tocantins      223  1/1/2014\n",
       "6452  2015  Dezembro  Tocantins      373  1/1/2015\n",
       "6453  2016  Dezembro  Tocantins      119  1/1/2016\n",
       "\n",
       "[6454 rows x 5 columns]"
      ]
     },
     "execution_count": 6,
     "metadata": {},
     "output_type": "execute_result"
    }
   ],
   "source": [
    "data"
   ]
  },
  {
   "cell_type": "code",
   "execution_count": 7,
   "id": "948267e1-1f51-458f-bc76-a12d68033cb2",
   "metadata": {},
   "outputs": [
    {
     "data": {
      "text/plain": [
       "Index(['ano', 'mes', 'estado', 'numero', 'encontro'], dtype='object')"
      ]
     },
     "execution_count": 7,
     "metadata": {},
     "output_type": "execute_result"
    }
   ],
   "source": [
    "data.columns"
   ]
  },
  {
   "cell_type": "code",
   "execution_count": 8,
   "id": "e59aa1eb-551f-4a75-ac6a-7ab40d72ad85",
   "metadata": {},
   "outputs": [],
   "source": [
    "new_col = {'ano':'Year', 'mes':'Month', 'estado':'State', 'numero':'Number_of_fires', 'encontro':'Date'}"
   ]
  },
  {
   "cell_type": "code",
   "execution_count": 11,
   "id": "acf32f1a-c2c5-4845-ab0e-f14edcae4ca5",
   "metadata": {},
   "outputs": [],
   "source": [
    "data = data.rename(columns=new_col)"
   ]
  },
  {
   "cell_type": "code",
   "execution_count": 12,
   "id": "abd4768d-e3a4-4e8b-a394-68c927402bb6",
   "metadata": {},
   "outputs": [
    {
     "data": {
      "text/html": [
       "<div>\n",
       "<style scoped>\n",
       "    .dataframe tbody tr th:only-of-type {\n",
       "        vertical-align: middle;\n",
       "    }\n",
       "\n",
       "    .dataframe tbody tr th {\n",
       "        vertical-align: top;\n",
       "    }\n",
       "\n",
       "    .dataframe thead th {\n",
       "        text-align: right;\n",
       "    }\n",
       "</style>\n",
       "<table border=\"1\" class=\"dataframe\">\n",
       "  <thead>\n",
       "    <tr style=\"text-align: right;\">\n",
       "      <th></th>\n",
       "      <th>Year</th>\n",
       "      <th>Month</th>\n",
       "      <th>State</th>\n",
       "      <th>Number_of_fires</th>\n",
       "      <th>Date</th>\n",
       "    </tr>\n",
       "  </thead>\n",
       "  <tbody>\n",
       "    <tr>\n",
       "      <th>0</th>\n",
       "      <td>1998</td>\n",
       "      <td>Janeiro</td>\n",
       "      <td>Acre</td>\n",
       "      <td>0 Fires</td>\n",
       "      <td>1/1/1998</td>\n",
       "    </tr>\n",
       "    <tr>\n",
       "      <th>1</th>\n",
       "      <td>1999</td>\n",
       "      <td>Janeiro</td>\n",
       "      <td>Acre</td>\n",
       "      <td>0 Fires</td>\n",
       "      <td>1/1/1999</td>\n",
       "    </tr>\n",
       "    <tr>\n",
       "      <th>2</th>\n",
       "      <td>2000</td>\n",
       "      <td>Janeiro</td>\n",
       "      <td>Acre</td>\n",
       "      <td>0 Fires</td>\n",
       "      <td>1/1/2000</td>\n",
       "    </tr>\n",
       "    <tr>\n",
       "      <th>3</th>\n",
       "      <td>2001</td>\n",
       "      <td>Janeiro</td>\n",
       "      <td>Acre</td>\n",
       "      <td>0 Fires</td>\n",
       "      <td>1/1/2001</td>\n",
       "    </tr>\n",
       "    <tr>\n",
       "      <th>4</th>\n",
       "      <td>2002</td>\n",
       "      <td>Janeiro</td>\n",
       "      <td>Acre</td>\n",
       "      <td>0 Fires</td>\n",
       "      <td>1/1/2002</td>\n",
       "    </tr>\n",
       "    <tr>\n",
       "      <th>...</th>\n",
       "      <td>...</td>\n",
       "      <td>...</td>\n",
       "      <td>...</td>\n",
       "      <td>...</td>\n",
       "      <td>...</td>\n",
       "    </tr>\n",
       "    <tr>\n",
       "      <th>6449</th>\n",
       "      <td>2012</td>\n",
       "      <td>Dezembro</td>\n",
       "      <td>Tocantins</td>\n",
       "      <td>128</td>\n",
       "      <td>1/1/2012</td>\n",
       "    </tr>\n",
       "    <tr>\n",
       "      <th>6450</th>\n",
       "      <td>2013</td>\n",
       "      <td>Dezembro</td>\n",
       "      <td>Tocantins</td>\n",
       "      <td>85</td>\n",
       "      <td>1/1/2013</td>\n",
       "    </tr>\n",
       "    <tr>\n",
       "      <th>6451</th>\n",
       "      <td>2014</td>\n",
       "      <td>Dezembro</td>\n",
       "      <td>Tocantins</td>\n",
       "      <td>223</td>\n",
       "      <td>1/1/2014</td>\n",
       "    </tr>\n",
       "    <tr>\n",
       "      <th>6452</th>\n",
       "      <td>2015</td>\n",
       "      <td>Dezembro</td>\n",
       "      <td>Tocantins</td>\n",
       "      <td>373</td>\n",
       "      <td>1/1/2015</td>\n",
       "    </tr>\n",
       "    <tr>\n",
       "      <th>6453</th>\n",
       "      <td>2016</td>\n",
       "      <td>Dezembro</td>\n",
       "      <td>Tocantins</td>\n",
       "      <td>119</td>\n",
       "      <td>1/1/2016</td>\n",
       "    </tr>\n",
       "  </tbody>\n",
       "</table>\n",
       "<p>6454 rows × 5 columns</p>\n",
       "</div>"
      ],
      "text/plain": [
       "      Year     Month      State Number_of_fires      Date\n",
       "0     1998   Janeiro       Acre         0 Fires  1/1/1998\n",
       "1     1999   Janeiro       Acre         0 Fires  1/1/1999\n",
       "2     2000   Janeiro       Acre         0 Fires  1/1/2000\n",
       "3     2001   Janeiro       Acre         0 Fires  1/1/2001\n",
       "4     2002   Janeiro       Acre         0 Fires  1/1/2002\n",
       "...    ...       ...        ...             ...       ...\n",
       "6449  2012  Dezembro  Tocantins             128  1/1/2012\n",
       "6450  2013  Dezembro  Tocantins              85  1/1/2013\n",
       "6451  2014  Dezembro  Tocantins             223  1/1/2014\n",
       "6452  2015  Dezembro  Tocantins             373  1/1/2015\n",
       "6453  2016  Dezembro  Tocantins             119  1/1/2016\n",
       "\n",
       "[6454 rows x 5 columns]"
      ]
     },
     "execution_count": 12,
     "metadata": {},
     "output_type": "execute_result"
    }
   ],
   "source": [
    "data\n"
   ]
  },
  {
   "cell_type": "code",
   "execution_count": null,
   "id": "f191e178-2a6b-42c1-a283-4dd1a29fad88",
   "metadata": {},
   "outputs": [],
   "source": [
    "##REARRANGING COLUMNS"
   ]
  },
  {
   "cell_type": "code",
   "execution_count": 13,
   "id": "a4e8b85c-b112-4b83-a4ee-eb5b83495fbe",
   "metadata": {},
   "outputs": [
    {
     "data": {
      "text/plain": [
       "Index(['Year', 'Month', 'State', 'Number_of_fires', 'Date'], dtype='object')"
      ]
     },
     "execution_count": 13,
     "metadata": {},
     "output_type": "execute_result"
    }
   ],
   "source": [
    "data.columns\n"
   ]
  },
  {
   "cell_type": "code",
   "execution_count": 14,
   "id": "10b57c9e-7e4e-4119-a0fe-34ff2a04a56b",
   "metadata": {},
   "outputs": [
    {
     "data": {
      "text/plain": [
       "Index(['Date', 'Month', 'Year', 'State', 'Number_of_fires'], dtype='object')"
      ]
     },
     "execution_count": 14,
     "metadata": {},
     "output_type": "execute_result"
    }
   ],
   "source": [
    "data.columns[[4,1,0,2,3]]"
   ]
  },
  {
   "cell_type": "code",
   "execution_count": 19,
   "id": "ac5c6cbb-b509-4602-a9f6-8aafb08ef261",
   "metadata": {},
   "outputs": [
    {
     "data": {
      "text/html": [
       "<div>\n",
       "<style scoped>\n",
       "    .dataframe tbody tr th:only-of-type {\n",
       "        vertical-align: middle;\n",
       "    }\n",
       "\n",
       "    .dataframe tbody tr th {\n",
       "        vertical-align: top;\n",
       "    }\n",
       "\n",
       "    .dataframe thead th {\n",
       "        text-align: right;\n",
       "    }\n",
       "</style>\n",
       "<table border=\"1\" class=\"dataframe\">\n",
       "  <thead>\n",
       "    <tr style=\"text-align: right;\">\n",
       "      <th></th>\n",
       "      <th>Year</th>\n",
       "      <th>State</th>\n",
       "      <th>Month</th>\n",
       "    </tr>\n",
       "  </thead>\n",
       "  <tbody>\n",
       "    <tr>\n",
       "      <th>0</th>\n",
       "      <td>1998</td>\n",
       "      <td>Acre</td>\n",
       "      <td>Janeiro</td>\n",
       "    </tr>\n",
       "    <tr>\n",
       "      <th>1</th>\n",
       "      <td>1999</td>\n",
       "      <td>Acre</td>\n",
       "      <td>Janeiro</td>\n",
       "    </tr>\n",
       "    <tr>\n",
       "      <th>2</th>\n",
       "      <td>2000</td>\n",
       "      <td>Acre</td>\n",
       "      <td>Janeiro</td>\n",
       "    </tr>\n",
       "    <tr>\n",
       "      <th>3</th>\n",
       "      <td>2001</td>\n",
       "      <td>Acre</td>\n",
       "      <td>Janeiro</td>\n",
       "    </tr>\n",
       "    <tr>\n",
       "      <th>4</th>\n",
       "      <td>2002</td>\n",
       "      <td>Acre</td>\n",
       "      <td>Janeiro</td>\n",
       "    </tr>\n",
       "    <tr>\n",
       "      <th>...</th>\n",
       "      <td>...</td>\n",
       "      <td>...</td>\n",
       "      <td>...</td>\n",
       "    </tr>\n",
       "    <tr>\n",
       "      <th>6449</th>\n",
       "      <td>2012</td>\n",
       "      <td>Tocantins</td>\n",
       "      <td>Dezembro</td>\n",
       "    </tr>\n",
       "    <tr>\n",
       "      <th>6450</th>\n",
       "      <td>2013</td>\n",
       "      <td>Tocantins</td>\n",
       "      <td>Dezembro</td>\n",
       "    </tr>\n",
       "    <tr>\n",
       "      <th>6451</th>\n",
       "      <td>2014</td>\n",
       "      <td>Tocantins</td>\n",
       "      <td>Dezembro</td>\n",
       "    </tr>\n",
       "    <tr>\n",
       "      <th>6452</th>\n",
       "      <td>2015</td>\n",
       "      <td>Tocantins</td>\n",
       "      <td>Dezembro</td>\n",
       "    </tr>\n",
       "    <tr>\n",
       "      <th>6453</th>\n",
       "      <td>2016</td>\n",
       "      <td>Tocantins</td>\n",
       "      <td>Dezembro</td>\n",
       "    </tr>\n",
       "  </tbody>\n",
       "</table>\n",
       "<p>6454 rows × 3 columns</p>\n",
       "</div>"
      ],
      "text/plain": [
       "      Year      State     Month\n",
       "0     1998       Acre   Janeiro\n",
       "1     1999       Acre   Janeiro\n",
       "2     2000       Acre   Janeiro\n",
       "3     2001       Acre   Janeiro\n",
       "4     2002       Acre   Janeiro\n",
       "...    ...        ...       ...\n",
       "6449  2012  Tocantins  Dezembro\n",
       "6450  2013  Tocantins  Dezembro\n",
       "6451  2014  Tocantins  Dezembro\n",
       "6452  2015  Tocantins  Dezembro\n",
       "6453  2016  Tocantins  Dezembro\n",
       "\n",
       "[6454 rows x 3 columns]"
      ]
     },
     "execution_count": 19,
     "metadata": {},
     "output_type": "execute_result"
    }
   ],
   "source": [
    "data[['Year','State','Month']]"
   ]
  },
  {
   "cell_type": "code",
   "execution_count": 22,
   "id": "f070cbbc-c4c4-4ef8-8567-5ce9d406e800",
   "metadata": {},
   "outputs": [],
   "source": [
    "data = data[data.columns[[4,1,0,2,3]]]"
   ]
  },
  {
   "cell_type": "code",
   "execution_count": 23,
   "id": "f1520896-b2db-4034-accf-ca50ba75e19f",
   "metadata": {},
   "outputs": [
    {
     "data": {
      "text/html": [
       "<div>\n",
       "<style scoped>\n",
       "    .dataframe tbody tr th:only-of-type {\n",
       "        vertical-align: middle;\n",
       "    }\n",
       "\n",
       "    .dataframe tbody tr th {\n",
       "        vertical-align: top;\n",
       "    }\n",
       "\n",
       "    .dataframe thead th {\n",
       "        text-align: right;\n",
       "    }\n",
       "</style>\n",
       "<table border=\"1\" class=\"dataframe\">\n",
       "  <thead>\n",
       "    <tr style=\"text-align: right;\">\n",
       "      <th></th>\n",
       "      <th>Date</th>\n",
       "      <th>Month</th>\n",
       "      <th>Year</th>\n",
       "      <th>State</th>\n",
       "      <th>Number_of_fires</th>\n",
       "    </tr>\n",
       "  </thead>\n",
       "  <tbody>\n",
       "    <tr>\n",
       "      <th>0</th>\n",
       "      <td>1/1/1998</td>\n",
       "      <td>Janeiro</td>\n",
       "      <td>1998</td>\n",
       "      <td>Acre</td>\n",
       "      <td>0 Fires</td>\n",
       "    </tr>\n",
       "    <tr>\n",
       "      <th>1</th>\n",
       "      <td>1/1/1999</td>\n",
       "      <td>Janeiro</td>\n",
       "      <td>1999</td>\n",
       "      <td>Acre</td>\n",
       "      <td>0 Fires</td>\n",
       "    </tr>\n",
       "    <tr>\n",
       "      <th>2</th>\n",
       "      <td>1/1/2000</td>\n",
       "      <td>Janeiro</td>\n",
       "      <td>2000</td>\n",
       "      <td>Acre</td>\n",
       "      <td>0 Fires</td>\n",
       "    </tr>\n",
       "    <tr>\n",
       "      <th>3</th>\n",
       "      <td>1/1/2001</td>\n",
       "      <td>Janeiro</td>\n",
       "      <td>2001</td>\n",
       "      <td>Acre</td>\n",
       "      <td>0 Fires</td>\n",
       "    </tr>\n",
       "    <tr>\n",
       "      <th>4</th>\n",
       "      <td>1/1/2002</td>\n",
       "      <td>Janeiro</td>\n",
       "      <td>2002</td>\n",
       "      <td>Acre</td>\n",
       "      <td>0 Fires</td>\n",
       "    </tr>\n",
       "    <tr>\n",
       "      <th>...</th>\n",
       "      <td>...</td>\n",
       "      <td>...</td>\n",
       "      <td>...</td>\n",
       "      <td>...</td>\n",
       "      <td>...</td>\n",
       "    </tr>\n",
       "    <tr>\n",
       "      <th>6449</th>\n",
       "      <td>1/1/2012</td>\n",
       "      <td>Dezembro</td>\n",
       "      <td>2012</td>\n",
       "      <td>Tocantins</td>\n",
       "      <td>128</td>\n",
       "    </tr>\n",
       "    <tr>\n",
       "      <th>6450</th>\n",
       "      <td>1/1/2013</td>\n",
       "      <td>Dezembro</td>\n",
       "      <td>2013</td>\n",
       "      <td>Tocantins</td>\n",
       "      <td>85</td>\n",
       "    </tr>\n",
       "    <tr>\n",
       "      <th>6451</th>\n",
       "      <td>1/1/2014</td>\n",
       "      <td>Dezembro</td>\n",
       "      <td>2014</td>\n",
       "      <td>Tocantins</td>\n",
       "      <td>223</td>\n",
       "    </tr>\n",
       "    <tr>\n",
       "      <th>6452</th>\n",
       "      <td>1/1/2015</td>\n",
       "      <td>Dezembro</td>\n",
       "      <td>2015</td>\n",
       "      <td>Tocantins</td>\n",
       "      <td>373</td>\n",
       "    </tr>\n",
       "    <tr>\n",
       "      <th>6453</th>\n",
       "      <td>1/1/2016</td>\n",
       "      <td>Dezembro</td>\n",
       "      <td>2016</td>\n",
       "      <td>Tocantins</td>\n",
       "      <td>119</td>\n",
       "    </tr>\n",
       "  </tbody>\n",
       "</table>\n",
       "<p>6454 rows × 5 columns</p>\n",
       "</div>"
      ],
      "text/plain": [
       "          Date     Month  Year      State Number_of_fires\n",
       "0     1/1/1998   Janeiro  1998       Acre         0 Fires\n",
       "1     1/1/1999   Janeiro  1999       Acre         0 Fires\n",
       "2     1/1/2000   Janeiro  2000       Acre         0 Fires\n",
       "3     1/1/2001   Janeiro  2001       Acre         0 Fires\n",
       "4     1/1/2002   Janeiro  2002       Acre         0 Fires\n",
       "...        ...       ...   ...        ...             ...\n",
       "6449  1/1/2012  Dezembro  2012  Tocantins             128\n",
       "6450  1/1/2013  Dezembro  2013  Tocantins              85\n",
       "6451  1/1/2014  Dezembro  2014  Tocantins             223\n",
       "6452  1/1/2015  Dezembro  2015  Tocantins             373\n",
       "6453  1/1/2016  Dezembro  2016  Tocantins             119\n",
       "\n",
       "[6454 rows x 5 columns]"
      ]
     },
     "execution_count": 23,
     "metadata": {},
     "output_type": "execute_result"
    }
   ],
   "source": [
    "data"
   ]
  },
  {
   "cell_type": "code",
   "execution_count": 24,
   "id": "a79af4ff-367b-4d74-83c1-a9ca61f222af",
   "metadata": {},
   "outputs": [],
   "source": [
    "##checking data_types\n"
   ]
  },
  {
   "cell_type": "code",
   "execution_count": 25,
   "id": "53cd0633-0bf4-40ab-8a87-2ca7a097fbc3",
   "metadata": {},
   "outputs": [
    {
     "data": {
      "text/plain": [
       "Date               object\n",
       "Month              object\n",
       "Year                int64\n",
       "State              object\n",
       "Number_of_fires    object\n",
       "dtype: object"
      ]
     },
     "execution_count": 25,
     "metadata": {},
     "output_type": "execute_result"
    }
   ],
   "source": [
    "data.dtypes"
   ]
  },
  {
   "cell_type": "code",
   "execution_count": 26,
   "id": "c8a856ed-3869-4aae-978d-5fc6bcd357e1",
   "metadata": {},
   "outputs": [],
   "source": [
    "###changing data types"
   ]
  },
  {
   "cell_type": "code",
   "execution_count": 28,
   "id": "6ff6ec4b-a567-455e-a8a5-17999c32d3fa",
   "metadata": {},
   "outputs": [
    {
     "data": {
      "text/plain": [
       "0       1/1/1998\n",
       "1       1/1/1999\n",
       "2       1/1/2000\n",
       "3       1/1/2001\n",
       "4       1/1/2002\n",
       "          ...   \n",
       "6449    1/1/2012\n",
       "6450    1/1/2013\n",
       "6451    1/1/2014\n",
       "6452    1/1/2015\n",
       "6453    1/1/2016\n",
       "Name: Date, Length: 6454, dtype: object"
      ]
     },
     "execution_count": 28,
     "metadata": {},
     "output_type": "execute_result"
    }
   ],
   "source": [
    "data['Date']"
   ]
  },
  {
   "cell_type": "code",
   "execution_count": 31,
   "id": "c57336a7-e44f-4dbc-a641-f605294226eb",
   "metadata": {},
   "outputs": [
    {
     "data": {
      "text/plain": [
       "0      1998-01-01\n",
       "1      1999-01-01\n",
       "2      2000-01-01\n",
       "3      2001-01-01\n",
       "4      2002-01-01\n",
       "          ...    \n",
       "6449   2012-01-01\n",
       "6450   2013-01-01\n",
       "6451   2014-01-01\n",
       "6452   2015-01-01\n",
       "6453   2016-01-01\n",
       "Name: Date, Length: 6454, dtype: datetime64[ns]"
      ]
     },
     "execution_count": 31,
     "metadata": {},
     "output_type": "execute_result"
    }
   ],
   "source": [
    "pd.to_datetime(data['Date'])"
   ]
  },
  {
   "cell_type": "code",
   "execution_count": 32,
   "id": "a0051f96-ff3b-4483-bba4-6611f7d42f77",
   "metadata": {},
   "outputs": [
    {
     "data": {
      "text/plain": [
       "Date               object\n",
       "Month              object\n",
       "Year                int64\n",
       "State              object\n",
       "Number_of_fires    object\n",
       "dtype: object"
      ]
     },
     "execution_count": 32,
     "metadata": {},
     "output_type": "execute_result"
    }
   ],
   "source": [
    "data.dtypes"
   ]
  },
  {
   "cell_type": "code",
   "execution_count": 33,
   "id": "a1790dca-8397-4a5a-b04d-fdaebd71af72",
   "metadata": {},
   "outputs": [],
   "source": [
    "data['Date'] = pd.to_datetime(data['Date'])"
   ]
  },
  {
   "cell_type": "code",
   "execution_count": 34,
   "id": "fd606f4a-2794-4499-b548-4b5859ac1342",
   "metadata": {},
   "outputs": [
    {
     "data": {
      "text/plain": [
       "Date               datetime64[ns]\n",
       "Month                      object\n",
       "Year                        int64\n",
       "State                      object\n",
       "Number_of_fires            object\n",
       "dtype: object"
      ]
     },
     "execution_count": 34,
     "metadata": {},
     "output_type": "execute_result"
    }
   ],
   "source": [
    "data.dtypes"
   ]
  },
  {
   "cell_type": "code",
   "execution_count": 35,
   "id": "921b9cfe-3f8b-4f25-ac3c-657a7d1623dd",
   "metadata": {},
   "outputs": [
    {
     "data": {
      "text/plain": [
       "0      1998-01-01\n",
       "1      1999-01-01\n",
       "2      2000-01-01\n",
       "3      2001-01-01\n",
       "4      2002-01-01\n",
       "          ...    \n",
       "6449   2012-01-01\n",
       "6450   2013-01-01\n",
       "6451   2014-01-01\n",
       "6452   2015-01-01\n",
       "6453   2016-01-01\n",
       "Name: Date, Length: 6454, dtype: datetime64[ns]"
      ]
     },
     "execution_count": 35,
     "metadata": {},
     "output_type": "execute_result"
    }
   ],
   "source": [
    "data.Date"
   ]
  },
  {
   "cell_type": "code",
   "execution_count": 37,
   "id": "66426653-3819-4ebe-ab07-43d22d2c51a7",
   "metadata": {},
   "outputs": [
    {
     "data": {
      "text/plain": [
       "0       1998\n",
       "1       1999\n",
       "2       2000\n",
       "3       2001\n",
       "4       2002\n",
       "        ... \n",
       "6449    2012\n",
       "6450    2013\n",
       "6451    2014\n",
       "6452    2015\n",
       "6453    2016\n",
       "Name: Date, Length: 6454, dtype: int32"
      ]
     },
     "execution_count": 37,
     "metadata": {},
     "output_type": "execute_result"
    }
   ],
   "source": [
    "data.Date.dt.year"
   ]
  },
  {
   "cell_type": "code",
   "execution_count": 38,
   "id": "c1cbec38-6d52-40fd-92b1-611f01c76300",
   "metadata": {},
   "outputs": [
    {
     "data": {
      "text/plain": [
       "0       3\n",
       "1       4\n",
       "2       5\n",
       "3       0\n",
       "4       1\n",
       "       ..\n",
       "6449    6\n",
       "6450    1\n",
       "6451    2\n",
       "6452    3\n",
       "6453    4\n",
       "Name: Date, Length: 6454, dtype: int32"
      ]
     },
     "execution_count": 38,
     "metadata": {},
     "output_type": "execute_result"
    }
   ],
   "source": [
    "data.Date.dt.dayofweek"
   ]
  },
  {
   "cell_type": "code",
   "execution_count": 39,
   "id": "6d92497a-4a09-4113-a8a3-3cc42497cce7",
   "metadata": {},
   "outputs": [],
   "source": [
    "data['Dayofweek'] = data.Date.dt.dayofweek"
   ]
  },
  {
   "cell_type": "code",
   "execution_count": 42,
   "id": "0dc6fd7e-2b7e-4fb9-a9fd-b69a87c69e79",
   "metadata": {},
   "outputs": [
    {
     "name": "stdout",
     "output_type": "stream",
     "text": [
      "<class 'pandas.core.frame.DataFrame'>\n",
      "Index: 6454 entries, 0 to 6453\n",
      "Data columns (total 6 columns):\n",
      " #   Column           Non-Null Count  Dtype         \n",
      "---  ------           --------------  -----         \n",
      " 0   Date             6454 non-null   datetime64[ns]\n",
      " 1   Month            6454 non-null   object        \n",
      " 2   Year             6454 non-null   int64         \n",
      " 3   State            6454 non-null   object        \n",
      " 4   Number_of_fires  6322 non-null   object        \n",
      " 5   Dayofweek        6454 non-null   int32         \n",
      "dtypes: datetime64[ns](1), int32(1), int64(1), object(3)\n",
      "memory usage: 327.7+ KB\n"
     ]
    }
   ],
   "source": [
    "data.info()"
   ]
  },
  {
   "cell_type": "code",
   "execution_count": 43,
   "id": "8b46ee03-f8a1-4360-ae03-07e37cc84b1b",
   "metadata": {},
   "outputs": [
    {
     "data": {
      "text/html": [
       "<div>\n",
       "<style scoped>\n",
       "    .dataframe tbody tr th:only-of-type {\n",
       "        vertical-align: middle;\n",
       "    }\n",
       "\n",
       "    .dataframe tbody tr th {\n",
       "        vertical-align: top;\n",
       "    }\n",
       "\n",
       "    .dataframe thead th {\n",
       "        text-align: right;\n",
       "    }\n",
       "</style>\n",
       "<table border=\"1\" class=\"dataframe\">\n",
       "  <thead>\n",
       "    <tr style=\"text-align: right;\">\n",
       "      <th></th>\n",
       "      <th>Date</th>\n",
       "      <th>Month</th>\n",
       "      <th>Year</th>\n",
       "      <th>State</th>\n",
       "      <th>Number_of_fires</th>\n",
       "      <th>Dayofweek</th>\n",
       "    </tr>\n",
       "  </thead>\n",
       "  <tbody>\n",
       "    <tr>\n",
       "      <th>0</th>\n",
       "      <td>1998-01-01</td>\n",
       "      <td>Janeiro</td>\n",
       "      <td>1998</td>\n",
       "      <td>Acre</td>\n",
       "      <td>0 Fires</td>\n",
       "      <td>3</td>\n",
       "    </tr>\n",
       "    <tr>\n",
       "      <th>1</th>\n",
       "      <td>1999-01-01</td>\n",
       "      <td>Janeiro</td>\n",
       "      <td>1999</td>\n",
       "      <td>Acre</td>\n",
       "      <td>0 Fires</td>\n",
       "      <td>4</td>\n",
       "    </tr>\n",
       "    <tr>\n",
       "      <th>2</th>\n",
       "      <td>2000-01-01</td>\n",
       "      <td>Janeiro</td>\n",
       "      <td>2000</td>\n",
       "      <td>Acre</td>\n",
       "      <td>0 Fires</td>\n",
       "      <td>5</td>\n",
       "    </tr>\n",
       "    <tr>\n",
       "      <th>3</th>\n",
       "      <td>2001-01-01</td>\n",
       "      <td>Janeiro</td>\n",
       "      <td>2001</td>\n",
       "      <td>Acre</td>\n",
       "      <td>0 Fires</td>\n",
       "      <td>0</td>\n",
       "    </tr>\n",
       "    <tr>\n",
       "      <th>4</th>\n",
       "      <td>2002-01-01</td>\n",
       "      <td>Janeiro</td>\n",
       "      <td>2002</td>\n",
       "      <td>Acre</td>\n",
       "      <td>0 Fires</td>\n",
       "      <td>1</td>\n",
       "    </tr>\n",
       "    <tr>\n",
       "      <th>...</th>\n",
       "      <td>...</td>\n",
       "      <td>...</td>\n",
       "      <td>...</td>\n",
       "      <td>...</td>\n",
       "      <td>...</td>\n",
       "      <td>...</td>\n",
       "    </tr>\n",
       "    <tr>\n",
       "      <th>6449</th>\n",
       "      <td>2012-01-01</td>\n",
       "      <td>Dezembro</td>\n",
       "      <td>2012</td>\n",
       "      <td>Tocantins</td>\n",
       "      <td>128</td>\n",
       "      <td>6</td>\n",
       "    </tr>\n",
       "    <tr>\n",
       "      <th>6450</th>\n",
       "      <td>2013-01-01</td>\n",
       "      <td>Dezembro</td>\n",
       "      <td>2013</td>\n",
       "      <td>Tocantins</td>\n",
       "      <td>85</td>\n",
       "      <td>1</td>\n",
       "    </tr>\n",
       "    <tr>\n",
       "      <th>6451</th>\n",
       "      <td>2014-01-01</td>\n",
       "      <td>Dezembro</td>\n",
       "      <td>2014</td>\n",
       "      <td>Tocantins</td>\n",
       "      <td>223</td>\n",
       "      <td>2</td>\n",
       "    </tr>\n",
       "    <tr>\n",
       "      <th>6452</th>\n",
       "      <td>2015-01-01</td>\n",
       "      <td>Dezembro</td>\n",
       "      <td>2015</td>\n",
       "      <td>Tocantins</td>\n",
       "      <td>373</td>\n",
       "      <td>3</td>\n",
       "    </tr>\n",
       "    <tr>\n",
       "      <th>6453</th>\n",
       "      <td>2016-01-01</td>\n",
       "      <td>Dezembro</td>\n",
       "      <td>2016</td>\n",
       "      <td>Tocantins</td>\n",
       "      <td>119</td>\n",
       "      <td>4</td>\n",
       "    </tr>\n",
       "  </tbody>\n",
       "</table>\n",
       "<p>6454 rows × 6 columns</p>\n",
       "</div>"
      ],
      "text/plain": [
       "           Date     Month  Year      State Number_of_fires  Dayofweek\n",
       "0    1998-01-01   Janeiro  1998       Acre         0 Fires          3\n",
       "1    1999-01-01   Janeiro  1999       Acre         0 Fires          4\n",
       "2    2000-01-01   Janeiro  2000       Acre         0 Fires          5\n",
       "3    2001-01-01   Janeiro  2001       Acre         0 Fires          0\n",
       "4    2002-01-01   Janeiro  2002       Acre         0 Fires          1\n",
       "...         ...       ...   ...        ...             ...        ...\n",
       "6449 2012-01-01  Dezembro  2012  Tocantins             128          6\n",
       "6450 2013-01-01  Dezembro  2013  Tocantins              85          1\n",
       "6451 2014-01-01  Dezembro  2014  Tocantins             223          2\n",
       "6452 2015-01-01  Dezembro  2015  Tocantins             373          3\n",
       "6453 2016-01-01  Dezembro  2016  Tocantins             119          4\n",
       "\n",
       "[6454 rows x 6 columns]"
      ]
     },
     "execution_count": 43,
     "metadata": {},
     "output_type": "execute_result"
    }
   ],
   "source": [
    "data"
   ]
  },
  {
   "cell_type": "code",
   "execution_count": 44,
   "id": "7ed9bbde-34a5-414b-baeb-7de074ac54c3",
   "metadata": {},
   "outputs": [
    {
     "data": {
      "text/plain": [
       "array([3, 4, 5, 0, 1, 2, 6], dtype=int32)"
      ]
     },
     "execution_count": 44,
     "metadata": {},
     "output_type": "execute_result"
    }
   ],
   "source": [
    "data.Dayofweek.unique()\n"
   ]
  },
  {
   "cell_type": "code",
   "execution_count": 45,
   "id": "0332c96b-c306-4dff-8480-0586b39ea562",
   "metadata": {},
   "outputs": [],
   "source": [
    "day = {3:'Thurs', 4:'Fri', 5:'Sat', 0:'Mon', 1:'Tues', 2:'Wed', 6:'Sun'}"
   ]
  },
  {
   "cell_type": "code",
   "execution_count": 48,
   "id": "88e72de2-2b58-4095-a26d-0d3ea9fcf9fd",
   "metadata": {},
   "outputs": [],
   "source": [
    "data.Dayofweek = data.Dayofweek.map(day)"
   ]
  },
  {
   "cell_type": "code",
   "execution_count": 49,
   "id": "c05b28ff-c244-48ed-9002-12d685832cc2",
   "metadata": {},
   "outputs": [
    {
     "data": {
      "text/html": [
       "<div>\n",
       "<style scoped>\n",
       "    .dataframe tbody tr th:only-of-type {\n",
       "        vertical-align: middle;\n",
       "    }\n",
       "\n",
       "    .dataframe tbody tr th {\n",
       "        vertical-align: top;\n",
       "    }\n",
       "\n",
       "    .dataframe thead th {\n",
       "        text-align: right;\n",
       "    }\n",
       "</style>\n",
       "<table border=\"1\" class=\"dataframe\">\n",
       "  <thead>\n",
       "    <tr style=\"text-align: right;\">\n",
       "      <th></th>\n",
       "      <th>Date</th>\n",
       "      <th>Month</th>\n",
       "      <th>Year</th>\n",
       "      <th>State</th>\n",
       "      <th>Number_of_fires</th>\n",
       "      <th>Dayofweek</th>\n",
       "    </tr>\n",
       "  </thead>\n",
       "  <tbody>\n",
       "    <tr>\n",
       "      <th>0</th>\n",
       "      <td>1998-01-01</td>\n",
       "      <td>Janeiro</td>\n",
       "      <td>1998</td>\n",
       "      <td>Acre</td>\n",
       "      <td>0 Fires</td>\n",
       "      <td>Thurs</td>\n",
       "    </tr>\n",
       "    <tr>\n",
       "      <th>1</th>\n",
       "      <td>1999-01-01</td>\n",
       "      <td>Janeiro</td>\n",
       "      <td>1999</td>\n",
       "      <td>Acre</td>\n",
       "      <td>0 Fires</td>\n",
       "      <td>Fri</td>\n",
       "    </tr>\n",
       "    <tr>\n",
       "      <th>2</th>\n",
       "      <td>2000-01-01</td>\n",
       "      <td>Janeiro</td>\n",
       "      <td>2000</td>\n",
       "      <td>Acre</td>\n",
       "      <td>0 Fires</td>\n",
       "      <td>Sat</td>\n",
       "    </tr>\n",
       "    <tr>\n",
       "      <th>3</th>\n",
       "      <td>2001-01-01</td>\n",
       "      <td>Janeiro</td>\n",
       "      <td>2001</td>\n",
       "      <td>Acre</td>\n",
       "      <td>0 Fires</td>\n",
       "      <td>Mon</td>\n",
       "    </tr>\n",
       "    <tr>\n",
       "      <th>4</th>\n",
       "      <td>2002-01-01</td>\n",
       "      <td>Janeiro</td>\n",
       "      <td>2002</td>\n",
       "      <td>Acre</td>\n",
       "      <td>0 Fires</td>\n",
       "      <td>Tues</td>\n",
       "    </tr>\n",
       "    <tr>\n",
       "      <th>...</th>\n",
       "      <td>...</td>\n",
       "      <td>...</td>\n",
       "      <td>...</td>\n",
       "      <td>...</td>\n",
       "      <td>...</td>\n",
       "      <td>...</td>\n",
       "    </tr>\n",
       "    <tr>\n",
       "      <th>6449</th>\n",
       "      <td>2012-01-01</td>\n",
       "      <td>Dezembro</td>\n",
       "      <td>2012</td>\n",
       "      <td>Tocantins</td>\n",
       "      <td>128</td>\n",
       "      <td>Sun</td>\n",
       "    </tr>\n",
       "    <tr>\n",
       "      <th>6450</th>\n",
       "      <td>2013-01-01</td>\n",
       "      <td>Dezembro</td>\n",
       "      <td>2013</td>\n",
       "      <td>Tocantins</td>\n",
       "      <td>85</td>\n",
       "      <td>Tues</td>\n",
       "    </tr>\n",
       "    <tr>\n",
       "      <th>6451</th>\n",
       "      <td>2014-01-01</td>\n",
       "      <td>Dezembro</td>\n",
       "      <td>2014</td>\n",
       "      <td>Tocantins</td>\n",
       "      <td>223</td>\n",
       "      <td>Wed</td>\n",
       "    </tr>\n",
       "    <tr>\n",
       "      <th>6452</th>\n",
       "      <td>2015-01-01</td>\n",
       "      <td>Dezembro</td>\n",
       "      <td>2015</td>\n",
       "      <td>Tocantins</td>\n",
       "      <td>373</td>\n",
       "      <td>Thurs</td>\n",
       "    </tr>\n",
       "    <tr>\n",
       "      <th>6453</th>\n",
       "      <td>2016-01-01</td>\n",
       "      <td>Dezembro</td>\n",
       "      <td>2016</td>\n",
       "      <td>Tocantins</td>\n",
       "      <td>119</td>\n",
       "      <td>Fri</td>\n",
       "    </tr>\n",
       "  </tbody>\n",
       "</table>\n",
       "<p>6454 rows × 6 columns</p>\n",
       "</div>"
      ],
      "text/plain": [
       "           Date     Month  Year      State Number_of_fires Dayofweek\n",
       "0    1998-01-01   Janeiro  1998       Acre         0 Fires     Thurs\n",
       "1    1999-01-01   Janeiro  1999       Acre         0 Fires       Fri\n",
       "2    2000-01-01   Janeiro  2000       Acre         0 Fires       Sat\n",
       "3    2001-01-01   Janeiro  2001       Acre         0 Fires       Mon\n",
       "4    2002-01-01   Janeiro  2002       Acre         0 Fires      Tues\n",
       "...         ...       ...   ...        ...             ...       ...\n",
       "6449 2012-01-01  Dezembro  2012  Tocantins             128       Sun\n",
       "6450 2013-01-01  Dezembro  2013  Tocantins              85      Tues\n",
       "6451 2014-01-01  Dezembro  2014  Tocantins             223       Wed\n",
       "6452 2015-01-01  Dezembro  2015  Tocantins             373     Thurs\n",
       "6453 2016-01-01  Dezembro  2016  Tocantins             119       Fri\n",
       "\n",
       "[6454 rows x 6 columns]"
      ]
     },
     "execution_count": 49,
     "metadata": {},
     "output_type": "execute_result"
    }
   ],
   "source": [
    "data"
   ]
  },
  {
   "cell_type": "code",
   "execution_count": null,
   "id": "39cbc4b6-1594-4ec2-a6d4-100db4556cd0",
   "metadata": {},
   "outputs": [],
   "source": []
  }
 ],
 "metadata": {
  "kernelspec": {
   "display_name": "Python 3 (ipykernel)",
   "language": "python",
   "name": "python3"
  },
  "language_info": {
   "codemirror_mode": {
    "name": "ipython",
    "version": 3
   },
   "file_extension": ".py",
   "mimetype": "text/x-python",
   "name": "python",
   "nbconvert_exporter": "python",
   "pygments_lexer": "ipython3",
   "version": "3.11.6"
  }
 },
 "nbformat": 4,
 "nbformat_minor": 5
}
